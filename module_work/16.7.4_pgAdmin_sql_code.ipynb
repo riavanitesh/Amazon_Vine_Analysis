{
 "cells": [
  {
   "cell_type": "code",
   "execution_count": null,
   "id": "d5f873cf",
   "metadata": {},
   "outputs": [],
   "source": [
    "# -- 16.7.4 Test with Create, Read, Update, and Delete (CRUD)\n",
    "# CREATE TABLE doctors (\n",
    "#  id INT PRIMARY KEY NOT NULL,\n",
    "#  speciality TEXT,\n",
    "#  taking_patients BOOLEAN\n",
    "# );\n",
    "# CREATE TABLE patients (\n",
    "#  id INT NOT NULL,\n",
    "#  doctor_id INT NOT NULL,\n",
    "#  health_status TEXT,\n",
    "#  PRIMARY KEY (id, doctor_id),\n",
    "#  FOREIGN KEY (doctor_id) REFERENCES doctors (id)\n",
    "# );\n",
    "\n",
    "# INSERT INTO doctors(id, speciality, taking_patients)\n",
    "# VALUES\n",
    "# (1, 'cardiology', TRUE),\n",
    "# (2, 'orthopedics', FALSE),\n",
    "# (3, 'pediatrics', TRUE);\n",
    "# INSERT INTO patients (id, doctor_id, health_status)\n",
    "# VALUES\n",
    "# (1, 2, 'healthy'),\n",
    "# (2, 3, 'sick'),\n",
    "# (3, 2, 'sick'),\n",
    "# (4, 1, 'healthy'),\n",
    "# (5, 1, 'sick');\n",
    "\n",
    "# -- Read tables\n",
    "# SELECT * FROM doctors;\n",
    "# SELECT * FROM patients;\n",
    "\n",
    "# -- Update rows\n",
    "# UPDATE doctors\n",
    "# SET taking_patients = FALSE\n",
    "# WHERE id = 1;\n",
    "# UPDATE patients\n",
    "# SET health_status = 'healthy'\n",
    "# WHERE id = 1;\n",
    "\n",
    "# -- Delete row\n",
    "# DELETE FROM patients\n",
    "# WHERE id = 1;"
   ]
  }
 ],
 "metadata": {
  "kernelspec": {
   "display_name": "Python 3 (ipykernel)",
   "language": "python",
   "name": "python3"
  },
  "language_info": {
   "codemirror_mode": {
    "name": "ipython",
    "version": 3
   },
   "file_extension": ".py",
   "mimetype": "text/x-python",
   "name": "python",
   "nbconvert_exporter": "python",
   "pygments_lexer": "ipython3",
   "version": "3.7.11"
  }
 },
 "nbformat": 4,
 "nbformat_minor": 5
}
