{
 "cells": [
  {
   "cell_type": "code",
   "execution_count": null,
   "id": "ac363c6f",
   "metadata": {},
   "outputs": [],
   "source": [
    "# 16.8.3 PySpark and S3 Stored Data \n",
    "# skipped couldn't figure out the names and where this was supposed to go \n",
    "template_url = \"https://baylex-databootcamp-bucket.s3.amazonaws.com/<folder-name>/<file-name>\"\n",
    "\n",
    "example_url = \"https://dataviz-curriculum.s3.amazonaws.com/data-folder/data.csv\""
   ]
  }
 ],
 "metadata": {
  "kernelspec": {
   "display_name": "Python 3 (ipykernel)",
   "language": "python",
   "name": "python3"
  },
  "language_info": {
   "codemirror_mode": {
    "name": "ipython",
    "version": 3
   },
   "file_extension": ".py",
   "mimetype": "text/x-python",
   "name": "python",
   "nbconvert_exporter": "python",
   "pygments_lexer": "ipython3",
   "version": "3.7.11"
  }
 },
 "nbformat": 4,
 "nbformat_minor": 5
}
