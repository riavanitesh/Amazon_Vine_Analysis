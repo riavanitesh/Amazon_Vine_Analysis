{
 "cells": [
  {
   "cell_type": "code",
   "execution_count": null,
   "id": "c3109412",
   "metadata": {},
   "outputs": [],
   "source": [
    "#16.9.1 PySpark ETL\n",
    "import os\n",
    "# Find the latest version of spark 3.0  from http://www-us.apache.org/dist/spark/ and enter as the spark version\n",
    "# For example:\n",
    "# spark_version = 'spark-3.0.1'\n",
    "spark_version = 'spark-3.0.1'\n",
    "os.environ['SPARK_VERSION']=spark_version\n",
    "\n",
    "# Install Spark and Java\n",
    "!apt-get update\n",
    "!apt-get install openjdk-11-jdk-headless -qq > /dev/null\n",
    "!wget -q http://www-us.apache.org/dist/spark/$SPARK_VERSION/$SPARK_VERSION-bin-hadoop2.7.tgz\n",
    "!tar xf $SPARK_VERSION-bin-hadoop2.7.tgz\n",
    "!pip install -q findspark\n",
    "\n",
    "# Set Environment Variables\n",
    "import os\n",
    "os.environ[\"JAVA_HOME\"] = \"/usr/lib/jvm/java-11-openjdk-amd64\"\n",
    "os.environ[\"SPARK_HOME\"] = f\"/content/{spark_version}-bin-hadoop2.7\"\n",
    "\n",
    "# Start a SparkSession\n",
    "import findspark\n",
    "findspark.init()\n"
   ]
  },
  {
   "cell_type": "code",
   "execution_count": null,
   "id": "fe663fa2",
   "metadata": {},
   "outputs": [],
   "source": [
    "!wget https://jdbc.postgresql.org/download/postgresql-42.2.16.jar\n"
   ]
  },
  {
   "cell_type": "code",
   "execution_count": null,
   "id": "e6b560ec",
   "metadata": {},
   "outputs": [],
   "source": [
    "from pyspark.sql import SparkSession\n",
    "spark = SparkSession.builder.appName(\"CloudETL\").config(\"spark.driver.extraClassPath\",\"/content/postgresql-42.2.16.jar\").getOrCreate()"
   ]
  },
  {
   "cell_type": "code",
   "execution_count": null,
   "id": "ef531877",
   "metadata": {},
   "outputs": [],
   "source": [
    "# Read in data from S3 Buckets\n",
    "from pyspark import SparkFiles\n",
    "url = \"https://baylex-s3-example-bucket.s3.amazonaws.com/user_data.csv\"\n",
    "# url =\"https://YOUR-BUCKET-NAME.s3.amazonaws.com/user_data.csv\"\n",
    "spark.sparkContext.addFile(url)\n",
    "user_data_df = spark.read.csv(SparkFiles.get(\"user_data.csv\"), sep=\",\", header=True, inferSchema=True)\n"
   ]
  },
  {
   "cell_type": "code",
   "execution_count": null,
   "id": "1d1e3e02",
   "metadata": {},
   "outputs": [],
   "source": [
    "# Show DataFrame\n",
    "user_data_df.show()"
   ]
  },
  {
   "cell_type": "code",
   "execution_count": null,
   "id": "c32d6b2d",
   "metadata": {},
   "outputs": [],
   "source": [
    "# add in the other csv\n",
    "url = \"https://baylex-s3-example-bucket.s3.amazonaws.com/user_payment.csv\"\n",
    "# url =\"https://YOUR-BUCKET-NAME.s3.amazonaws.com/user_payment.csv\"\n",
    "spark.sparkContext.addFile(url)\n",
    "user_payment_df = spark.read.csv(SparkFiles.get(\"user_payment.csv\"), sep=\",\", header=True, inferSchema=True)\n",
    "\n",
    "# Show DataFrame\n",
    "user_payment_df.show()\n"
   ]
  },
  {
   "cell_type": "code",
   "execution_count": null,
   "id": "87771e32",
   "metadata": {},
   "outputs": [],
   "source": [
    "# Join the two DataFrame\n",
    "joined_df = user_data_df.join(user_payment_df,on=\"username\",how=\"inner\")\n",
    "joined_df.show()"
   ]
  },
  {
   "cell_type": "code",
   "execution_count": null,
   "id": "4eec57a8",
   "metadata": {},
   "outputs": [],
   "source": [
    "# Drop null values\n",
    "dropna_df = joined_df.dropna()\n",
    "dropna_df.show()"
   ]
  },
  {
   "cell_type": "code",
   "execution_count": null,
   "id": "2fff971e",
   "metadata": {},
   "outputs": [],
   "source": [
    "# Load is a sql function to use columns\n",
    "from pyspark.sql.functions import col\n",
    "\n",
    "# Filter for only columns with active users\n",
    "cleaned_df = dropna_df.filter(col(\"active_user\") == True)\n",
    "cleaned_df.show()"
   ]
  },
  {
   "cell_type": "code",
   "execution_count": null,
   "id": "09216b88",
   "metadata": {},
   "outputs": [],
   "source": [
    "# Create user dataframe to match active_user table\n",
    "clean_user_df = cleaned_df.select([\"id\", \"first_name\",\"last_name\",\"username\"])\n",
    "cleaned_df.show()"
   ]
  },
  {
   "cell_type": "code",
   "execution_count": null,
   "id": "2c2b8c76",
   "metadata": {},
   "outputs": [],
   "source": [
    "# Create user dataframe to match billing_info table\n",
    "clean_billing_df = cleaned_df.select([\"billing_id\",\"street_address\",\"state\",\"username\"])\n",
    "clean_billing_df.show()"
   ]
  },
  {
   "cell_type": "code",
   "execution_count": null,
   "id": "910f981a",
   "metadata": {},
   "outputs": [],
   "source": [
    "# Create user dataframe to match payment_info table\n",
    "clean_payment_df = cleaned_df.select([\"billing_id\",\"cc_encrypted\"])\n",
    "clean_payment_df.show()"
   ]
  },
  {
   "cell_type": "code",
   "execution_count": null,
   "id": "f28e59e9",
   "metadata": {},
   "outputs": [],
   "source": [
    "# Configure settings for RDS\n",
    "mode = \"append\"\n",
    "# jdbc_url=\"jdbc:postgresql://<connection string in AWS>:5432/<database-name in pgAdmin>\"\n",
    "# amazon-reviews.camjftkrswax.us-east-1.rds.amazonaws.com\n",
    "jdbc_url=\"jdbc:postgresql://dataviz.camjftkrswax.us-east-1.rds.amazonaws.com:5432/postgres\"\n",
    "#\n",
    "config = {\"user\":\"postgres\",\n",
    "          \"password\": \"\",\n",
    "          \"driver\":\"org.postgresql.Driver\"}"
   ]
  },
  {
   "cell_type": "code",
   "execution_count": null,
   "id": "de4e360a",
   "metadata": {},
   "outputs": [],
   "source": [
    "# Write DataFrame to active_user table in RDS\n",
    "clean_user_df.write.jdbc(url=jdbc_url, table='active_user', mode=mode, properties=config)"
   ]
  },
  {
   "cell_type": "code",
   "execution_count": null,
   "id": "fe08d97f",
   "metadata": {},
   "outputs": [],
   "source": [
    "# Write dataframe to billing_info table in RDS\n",
    "clean_billing_df.write.jdbc(url=jdbc_url, table='billing_info', mode=mode, properties=config)"
   ]
  },
  {
   "cell_type": "code",
   "execution_count": null,
   "id": "e003cb5a",
   "metadata": {},
   "outputs": [],
   "source": [
    "# Write dataframe to payment_info table in RDS\n",
    "clean_payment_df.write.jdbc(url=jdbc_url, table='payment_info', mode=mode, properties=config)"
   ]
  },
  {
   "cell_type": "code",
   "execution_count": null,
   "id": "976f954e",
   "metadata": {},
   "outputs": [],
   "source": [
    "\n",
    "# inside of pgAdmin\n",
    "# -- Query database to check successful upload\n",
    "# SELECT * FROM active_user;\n",
    "# SELECT * FROM billing_info;\n",
    "# SELECT * FROM payment_info;"
   ]
  },
  {
   "cell_type": "code",
   "execution_count": null,
   "id": "811363e8",
   "metadata": {},
   "outputs": [],
   "source": []
  },
  {
   "cell_type": "code",
   "execution_count": null,
   "id": "d87cb660",
   "metadata": {},
   "outputs": [],
   "source": []
  },
  {
   "cell_type": "code",
   "execution_count": null,
   "id": "d728f004",
   "metadata": {},
   "outputs": [],
   "source": []
  }
 ],
 "metadata": {
  "kernelspec": {
   "display_name": "Python 3 (ipykernel)",
   "language": "python",
   "name": "python3"
  },
  "language_info": {
   "codemirror_mode": {
    "name": "ipython",
    "version": 3
   },
   "file_extension": ".py",
   "mimetype": "text/x-python",
   "name": "python",
   "nbconvert_exporter": "python",
   "pygments_lexer": "ipython3",
   "version": "3.7.11"
  }
 },
 "nbformat": 4,
 "nbformat_minor": 5
}
