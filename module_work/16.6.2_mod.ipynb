{
 "cells": [
  {
   "cell_type": "code",
   "execution_count": null,
   "id": "6976c708",
   "metadata": {},
   "outputs": [],
   "source": [
    "# Module 16.6.2 Stop Words\n",
    "import os\n",
    "# Find the latest version of spark 3.0  from http://www-us.apache.org/dist/spark/ and enter as the spark version\n",
    "# For example:\n",
    "# spark_version = 'spark-3.0.1'\n",
    "spark_version = 'spark-3.0.1'\n",
    "os.environ['SPARK_VERSION']=spark_version\n",
    "\n",
    "# Install Spark and Java\n",
    "!apt-get update\n",
    "!apt-get install openjdk-11-jdk-headless -qq > /dev/null\n",
    "!wget -q http://www-us.apache.org/dist/spark/$SPARK_VERSION/$SPARK_VERSION-bin-hadoop2.7.tgz\n",
    "!tar xf $SPARK_VERSION-bin-hadoop2.7.tgz\n",
    "!pip install -q findspark\n",
    "\n",
    "# Set Environment Variables\n",
    "import os\n",
    "os.environ[\"JAVA_HOME\"] = \"/usr/lib/jvm/java-11-openjdk-amd64\"\n",
    "os.environ[\"SPARK_HOME\"] = f\"/content/{spark_version}-bin-hadoop2.7\"\n",
    "\n",
    "# Start a SparkSession\n",
    "import findspark\n",
    "findspark.init()\n"
   ]
  },
  {
   "cell_type": "code",
   "execution_count": null,
   "id": "97ba8cba",
   "metadata": {},
   "outputs": [],
   "source": [
    "# Start Spark session\n",
    "from pyspark.sql import SparkSession\n",
    "spark = SparkSession.builder.appName(\"StopWords\").getOrCreate()\n",
    "# Skill Drill 16.6.2 added to make work\n",
    "from pyspark.sql.functions import col, udf\n",
    "from pyspark.sql.types import IntegerType\n",
    "from pyspark.ml.feature import Tokenizer\n"
   ]
  },
  {
   "cell_type": "code",
   "execution_count": null,
   "id": "3f2d6435",
   "metadata": {},
   "outputs": [],
   "source": [
    "# Create DataFrame\n",
    "sentenceData = spark.createDataFrame([\n",
    "                                      (0, [\"Big\",\"data\",\"is\",\"super\",\"powerful\"]),\n",
    "                                      (1,[\"This\",\"is\",\"going\",\"to\",\"be\",\"epic\"])\n",
    "],[\"id\",\"raw\"])\n"
   ]
  },
  {
   "cell_type": "code",
   "execution_count": null,
   "id": "c7eac32b",
   "metadata": {},
   "outputs": [],
   "source": [
    "# Import stop words library\n",
    "from pyspark.ml.feature import StopWordsRemover\n"
   ]
  },
  {
   "cell_type": "code",
   "execution_count": null,
   "id": "36ddffe3",
   "metadata": {},
   "outputs": [],
   "source": [
    "# Run the Remover\n",
    "remover = StopWordsRemover(inputCol=\"raw\", outputCol=\"filtered\")\n"
   ]
  },
  {
   "cell_type": "code",
   "execution_count": null,
   "id": "abe61415",
   "metadata": {},
   "outputs": [],
   "source": [
    "#Tansform and show data\n",
    "remover.transform(sentenceData).show(truncate=False)\n"
   ]
  },
  {
   "cell_type": "code",
   "execution_count": null,
   "id": "65bae9f4",
   "metadata": {},
   "outputs": [],
   "source": [
    "# Skill Drill 16.6.2 Combine a tokenizer and a stopword remover on a datafram not broken out\n",
    "# Create sample Dataframe\n",
    "dataframe_mod = spark.createDataFrame([\n",
    "                                   (0, \"Spark is great\"),\n",
    "                                   (1, \"We are learning Spark\"),\n",
    "                                   (2, \"Spark is better than hadoop no doubt\"),\n",
    "                                   (3, \"Adding a line for skill drill practice\")\n",
    "],[\"id\",\"sentence\"])\n",
    "dataframe_mod.show(truncate=False)\n"
   ]
  },
  {
   "cell_type": "code",
   "execution_count": null,
   "id": "63e03eed",
   "metadata": {},
   "outputs": [],
   "source": [
    "# Skill Drill 16.6.2 Combine a tokenizer and a stopword remover on a datafram not broken out\n",
    "# Create a function to return the length of a list\n",
    "def word_list_length(word_list):\n",
    "    return len(word_list)\n",
    "# Create a user defined function   \n",
    "count_tokens = udf(word_list_length, IntegerType())\n"
   ]
  },
  {
   "cell_type": "code",
   "execution_count": null,
   "id": "044c2a54",
   "metadata": {},
   "outputs": [],
   "source": [
    "# Skill Drill 16.6.2 Combine a tokenizer and a stopword remover on a datafram not broken out\n",
    "# Create our Tokenizer\n",
    "tokenizer = Tokenizer(inputCol=\"sentence\",outputCol=\"words\")\n",
    "\n",
    "# Transform and show DataFrame\n",
    "dataframe_mod = tokenizer.transform(dataframe_mod)\n",
    "\n",
    "# Select the needed columns and don't truncate results\n",
    "dataframe_mod.withColumn(\"tokens\",count_tokens(col(\"words\"))).show(truncate=False)\n"
   ]
  },
  {
   "cell_type": "code",
   "execution_count": null,
   "id": "1008f279",
   "metadata": {},
   "outputs": [],
   "source": [
    "# Skill Drill 16.6.2 Combine a tokenizer and a stopword remover on a datafram not broken out\n",
    "# Run the Remover\n",
    "remover_mod = StopWordsRemover(inputCol=\"words\", outputCol=\"filtered\")\n"
   ]
  },
  {
   "cell_type": "code",
   "execution_count": null,
   "id": "6b691a1f",
   "metadata": {},
   "outputs": [],
   "source": [
    "# Skill Drill 16.6.2 Combine a tokenizer and a stopword remover on a datafram not broken out\n",
    "#Tansform and show data\n",
    "remover_mod.transform(dataframe_mod).show(truncate=False)\n"
   ]
  },
  {
   "cell_type": "code",
   "execution_count": null,
   "id": "60180040",
   "metadata": {},
   "outputs": [],
   "source": []
  }
 ],
 "metadata": {
  "kernelspec": {
   "display_name": "Python 3 (ipykernel)",
   "language": "python",
   "name": "python3"
  },
  "language_info": {
   "codemirror_mode": {
    "name": "ipython",
    "version": 3
   },
   "file_extension": ".py",
   "mimetype": "text/x-python",
   "name": "python",
   "nbconvert_exporter": "python",
   "pygments_lexer": "ipython3",
   "version": "3.7.11"
  }
 },
 "nbformat": 4,
 "nbformat_minor": 5
}
