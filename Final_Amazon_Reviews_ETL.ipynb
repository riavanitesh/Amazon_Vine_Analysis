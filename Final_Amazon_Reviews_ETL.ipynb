{
 "cells": [
  {
   "cell_type": "code",
   "execution_count": null,
   "id": "78f995d1",
   "metadata": {},
   "outputs": [],
   "source": [
    "# Deliverable 1: Perform ETL on Amazon Product Reviews \n",
    "import os\n",
    "# Find the latest version of spark 2.0  from http://www-us.apache.org/dist/spark/ and enter as the spark version\n",
    "# For example:\n",
    "# spark_version = 'spark-3.0.0'\n",
    "spark_version = 'spark-3.0.1'\n",
    "os.environ['SPARK_VERSION']=spark_version\n",
    "\n",
    "# Install Spark and Java\n",
    "!apt-get update\n",
    "!apt-get install openjdk-11-jdk-headless -qq > /dev/null\n",
    "!wget -q http://www-us.apache.org/dist/spark/$SPARK_VERSION/$SPARK_VERSION-bin-hadoop2.7.tgz\n",
    "!tar xf $SPARK_VERSION-bin-hadoop2.7.tgz\n",
    "!pip install -q findspark\n",
    "\n",
    "# Set Environment Variables\n",
    "import os\n",
    "os.environ[\"JAVA_HOME\"] = \"/usr/lib/jvm/java-11-openjdk-amd64\"\n",
    "os.environ[\"SPARK_HOME\"] = f\"/content/{spark_version}-bin-hadoop2.7\"\n",
    "\n",
    "# Start a SparkSession\n",
    "import findspark\n",
    "findspark.init()\n"
   ]
  },
  {
   "cell_type": "code",
   "execution_count": null,
   "id": "9481443a",
   "metadata": {},
   "outputs": [],
   "source": [
    "# Download the Postgres driver that will allow Spark to interact with Postgres.\n",
    "!wget https://jdbc.postgresql.org/download/postgresql-42.2.16.jar\n"
   ]
  },
  {
   "cell_type": "code",
   "execution_count": null,
   "id": "4ec2f99b",
   "metadata": {},
   "outputs": [],
   "source": [
    "from pyspark.sql import SparkSession\n",
    "spark = SparkSession.builder.appName(\"BigData-Challenge\").config(\"spark.driver.extraClassPath\",\"/content/postgresql-42.2.16.jar\").getOrCreate()\n"
   ]
  },
  {
   "cell_type": "code",
   "execution_count": null,
   "id": "c24aeff3",
   "metadata": {},
   "outputs": [],
   "source": [
    "### Load Amazon Data into Spark DataFrame"
   ]
  },
  {
   "cell_type": "code",
   "execution_count": null,
   "id": "071fbc9a",
   "metadata": {},
   "outputs": [],
   "source": [
    "from pyspark import SparkFiles\n",
    "url = \"https://s3.amazonaws.com/amazon-reviews-pds/tsv/amazon_reviews_us_Digital_Video_Games_v1_00.tsv.gz\"\n",
    "spark.sparkContext.addFile(url)\n",
    "df = spark.read.option(\"encoding\", \"UTF-8\").csv(SparkFiles.get(\"amazon_reviews_us_Digital_Video_Games_v1_00.tsv.gz\"), sep=\"\\t\", header=True, inferSchema=True)\n",
    "df.show()\n"
   ]
  },
  {
   "cell_type": "code",
   "execution_count": null,
   "id": "789fadcb",
   "metadata": {},
   "outputs": [],
   "source": [
    "### Create DataFrames to match tables"
   ]
  },
  {
   "cell_type": "code",
   "execution_count": null,
   "id": "3ce855dc",
   "metadata": {},
   "outputs": [],
   "source": [
    "from pyspark.sql.functions import to_date\n",
    "# Read in the Review dataset as a DataFrame\n"
   ]
  },
  {
   "cell_type": "code",
   "execution_count": null,
   "id": "8fe84acc",
   "metadata": {},
   "outputs": [],
   "source": [
    "# Create the customers_table DataFrame\n",
    "customers_df = df.groupby(\"customer_id\").agg({'customer_id': 'count'}).withColumnRenamed(\"count(customer_id)\", \"customer_count\")\n",
    "customers_df.show(10)\n"
   ]
  },
  {
   "cell_type": "code",
   "execution_count": null,
   "id": "478550d9",
   "metadata": {},
   "outputs": [],
   "source": [
    "customers_df.count()\n"
   ]
  },
  {
   "cell_type": "code",
   "execution_count": null,
   "id": "aabc0daf",
   "metadata": {},
   "outputs": [],
   "source": [
    "# Create the products_table DataFrame and drop duplicates. \n",
    "products_df = df.select(['product_id', 'product_title']).drop_duplicates(['product_id'])\n",
    "products_df.show(10)\n"
   ]
  },
  {
   "cell_type": "code",
   "execution_count": null,
   "id": "39166fb2",
   "metadata": {},
   "outputs": [],
   "source": [
    "products_df.count()\n"
   ]
  },
  {
   "cell_type": "code",
   "execution_count": null,
   "id": "b00c9ee5",
   "metadata": {},
   "outputs": [],
   "source": [
    "# Create the review_id_table DataFrame. \n",
    "review_id_df = df.select(['review_id','customer_id','product_id', 'product_parent', to_date(\"review_date\", 'yyyy-MM-dd').alias(\"review_date\")])\n",
    "review_id_df.show(10)\n"
   ]
  },
  {
   "cell_type": "code",
   "execution_count": null,
   "id": "6d9df594",
   "metadata": {},
   "outputs": [],
   "source": [
    "review_id_df.count()\n"
   ]
  },
  {
   "cell_type": "code",
   "execution_count": null,
   "id": "09247c6d",
   "metadata": {},
   "outputs": [],
   "source": [
    "# Create the vine_table DataFrame\n",
    "vine_df = df.select(['review_id', 'star_rating','helpful_votes', 'total_votes', 'vine', 'verified_purchase'])\n",
    "vine_df.show(10)\n"
   ]
  },
  {
   "cell_type": "code",
   "execution_count": null,
   "id": "65ae7c6c",
   "metadata": {},
   "outputs": [],
   "source": [
    "### Connect to the AWS RDS instance and write each DataFrame to its table."
   ]
  },
  {
   "cell_type": "code",
   "execution_count": null,
   "id": "06c35f8e",
   "metadata": {},
   "outputs": [],
   "source": [
    "# Configure settings for RDS\n",
    "mode = \"append\"\n",
    "# jdbc_url=\"jdbc:postgresql://amazon-reviews.camjftkrswax.us-east-1.rds.amazonaws.com:5432/postgres\"\n",
    "jdbc_url=\"jdbc:postgresql://dataviz.camjftkrswax.us-east-1.rds.amazonaws.com:5432/postgres\"\n",
    "config = {\"user\":\"postgres\", \n",
    "          \"password\": \"\", \n",
    "          \"driver\":\"org.postgresql.Driver\"}\n"
   ]
  },
  {
   "cell_type": "code",
   "execution_count": null,
   "id": "ad517d0f",
   "metadata": {},
   "outputs": [],
   "source": [
    "# Write review_id_df to table in RDS\n",
    "review_id_df.write.jdbc(url=jdbc_url, table='review_id_table', mode=mode, properties=config)\n"
   ]
  },
  {
   "cell_type": "code",
   "execution_count": null,
   "id": "0f5980cf",
   "metadata": {},
   "outputs": [],
   "source": [
    "# Write products_df to table in RDS\n",
    "# about 3 min\n",
    "products_df.write.jdbc(url=jdbc_url, table='products_table', mode=mode, properties=config)\n"
   ]
  },
  {
   "cell_type": "code",
   "execution_count": null,
   "id": "76d1a5c7",
   "metadata": {},
   "outputs": [],
   "source": [
    "# Write customers_df to table in RDS\n",
    "# 5 min 14 s\n",
    "customers_df.write.jdbc(url=jdbc_url, table='customers_table', mode=mode, properties=config)\n"
   ]
  },
  {
   "cell_type": "code",
   "execution_count": null,
   "id": "0e47f96d",
   "metadata": {},
   "outputs": [],
   "source": [
    "# Write vine_df to table in RDS\n",
    "# 11 minutes\n",
    "vine_df.write.jdbc(url=jdbc_url, table='vine_table', mode=mode, properties=config)\n"
   ]
  },
  {
   "cell_type": "code",
   "execution_count": null,
   "id": "fe184e7d",
   "metadata": {},
   "outputs": [],
   "source": [
    "# -- inside of pgAdmin\n",
    "# -- Query database to check successful upload\n",
    "# SELECT * FROM customers_table;\n",
    "# SELECT * FROM products_table;\n",
    "# SELECT * FROM review_id_table;\n",
    "# SELECT * FROM vine_table;\n"
   ]
  },
  {
   "cell_type": "code",
   "execution_count": null,
   "id": "1e404ce1",
   "metadata": {},
   "outputs": [],
   "source": []
  },
  {
   "cell_type": "code",
   "execution_count": null,
   "id": "cc3e5ecb",
   "metadata": {},
   "outputs": [],
   "source": []
  },
  {
   "cell_type": "code",
   "execution_count": null,
   "id": "f3d4b022",
   "metadata": {},
   "outputs": [],
   "source": []
  }
 ],
 "metadata": {
  "kernelspec": {
   "display_name": "Python 3 (ipykernel)",
   "language": "python",
   "name": "python3"
  },
  "language_info": {
   "codemirror_mode": {
    "name": "ipython",
    "version": 3
   },
   "file_extension": ".py",
   "mimetype": "text/x-python",
   "name": "python",
   "nbconvert_exporter": "python",
   "pygments_lexer": "ipython3",
   "version": "3.7.11"
  }
 },
 "nbformat": 4,
 "nbformat_minor": 5
}
